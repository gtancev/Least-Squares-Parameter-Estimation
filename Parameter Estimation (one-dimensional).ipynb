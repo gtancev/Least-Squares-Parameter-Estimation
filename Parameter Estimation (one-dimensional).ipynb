{
 "cells": [
  {
   "cell_type": "code",
   "execution_count": 1,
   "metadata": {},
   "outputs": [],
   "source": [
    "# Parameter Exstimation\n",
    "# Georgi Tancev\n",
    "\n",
    "import math\n",
    "import numpy as np\n",
    "import scipy as sp\n",
    "import matplotlib.pyplot as plt\n",
    "from matplotlib import rc\n",
    "plt.rcParams['lines.linewidth'] = 1.0\n",
    "plt.rcParams['font.size'] = 6.0\n",
    "plt.rcParams['axes.titlesize'] = 6.0\n",
    "\n",
    "from math import *\n",
    "from numpy import *\n",
    "from scipy import *\n",
    "from scipy.integrate import *\n",
    "from scipy.optimize import *"
   ]
  },
  {
   "cell_type": "code",
   "execution_count": 2,
   "metadata": {},
   "outputs": [],
   "source": [
    "## Create data.\n",
    "\n",
    "t_m = [0, 10, 30, 45, 150, 600, 1000, 1500, 2000] # measured time points\n",
    "c_A_1 = np.array([0.0,0.26810943,0.71118938,0.97622488,1.89920956,2.22123022,2.22221643,2.22222221,2.22222222])\n",
    "noise = np.random.normal(0, 0.10, 9)\n",
    "c_A_1_m = c_A_1 + noise # measured concentration for A in reactor 1 with noise"
   ]
  },
  {
   "cell_type": "code",
   "execution_count": 3,
   "metadata": {},
   "outputs": [],
   "source": [
    "## Define model.\n",
    "\n",
    "# A -> B, k1\n",
    "\n",
    "Q = 0.01; # m**3 s**-1\n",
    "V1 = 3.5; # m**3\n",
    "V2 = 3.0; # m**3\n",
    "k1_true = 0.01; # s**-1 --> unknown in this case\n",
    "cA_0 = 10; # mol m**-3 \n",
    "\n",
    "def cascade(c,t,k1,Q,V1,V2,cA_0):\n",
    "    cA_1, cA_2, cB_1, cB_2 = c\n",
    "    dcA_1 = Q/V1*cA_0 - Q/V1*cA_1 - k1*cA_1\n",
    "    dcA_2 = Q/V2*cA_1 - Q/V2*cA_2 - k1*cA_2\n",
    "    dcB_1 =           - Q/V1*cB_1 + k1*cA_1\n",
    "    dcB_2 = Q/V2*cB_1 - Q/V2*cB_2 + k1*cA_2\n",
    "    dcdt = [dcA_1, dcA_2, dcB_1, dcB_2]\n",
    "    return dcdt;\n",
    "\n",
    "def leastsquares(k1,args=(t_m,c_A_1_m)):\n",
    "    \n",
    "    c0 = [0, 0, 0, 0]\n",
    "    sol1 = odeint(cascade, c0, t_m,args=(k1,Q,V1,V2,cA_0))\n",
    "    \n",
    "    obj = np.sum((c_A_1_m-sol1[:,0])**2,axis=0)\n",
    "    \n",
    "    return obj;"
   ]
  },
  {
   "cell_type": "code",
   "execution_count": 4,
   "metadata": {},
   "outputs": [],
   "source": [
    "# Solve.\n",
    "res = minimize_scalar(leastsquares);\n",
    "k1 = res.x\n",
    "\n",
    "c0 = [0, 0, 0, 0]\n",
    "t1 = linspace(0,2000,100)\n",
    "sol1 = odeint(cascade, c0, t1,args=(k1,Q,V1,V2,cA_0))"
   ]
  },
  {
   "cell_type": "code",
   "execution_count": 6,
   "metadata": {},
   "outputs": [
    {
     "data": {
      "image/png": "[encoded data removed]",
      "text/plain": [
       "<Figure size 212.4x212.4 with 1 Axes>"
      ]
     },
     "metadata": {},
     "output_type": "display_data"
    },
    {
     "name": "stdout",
     "output_type": "stream",
     "text": [
      "Parameter k_1 was estimated as 0.009 1/s.\n",
      "The true value of k_1 is 0.010 1/s.\n"
     ]
    }
   ],
   "source": [
    "# Plot.\n",
    "\n",
    "fig = plt.figure(figsize=(2.95,2.95))\n",
    "ax = fig.add_subplot(111)\n",
    "plt.plot(t_m, c_A_1_m, '.', label='c$_A$$_,$$_{data}$',color='black')\n",
    "plt.plot(t1, sol1[:, 0], '--', label='c$_A$$_,$$_{model}$',color='black')\n",
    "plt.legend(loc=4,frameon=False,fontsize=6)\n",
    "plt.xlabel('t / s',fontsize=6)\n",
    "plt.ylabel('c / mol$\\cdot$L$^{-1}$',fontsize=6)\n",
    "#plt.text(1910,0.32,r\"k = 0.01 s$^{-1}$\",horizontalalignment='center',fontsize=6)\n",
    "plt.xlim(-100, 2100)     # set the xlim to left, right\n",
    "plt.ylim(-0.09, 2.59)\n",
    "ax.tick_params(labelsize=6)\n",
    "ax.set_xticks((0,500,1000,1500,2000))\n",
    "plt.savefig('CSTR_cascade_parameter_estimation',dpi=900,transparent=True,orientation='landscape',bbox_inches=\"tight\")\n",
    "plt.savefig('CSTR_cascade_parameter_estimation',dpi=900,transparent=True,orientation='landscape',bbox_inches=\"tight\",format='pdf')\n",
    "plt.show()\n",
    "\n",
    "print('Parameter k_1 was estimated as {:0,.3f}'.format(k1),'1/s.')\n",
    "print('The true value of k_1 is {:0,.3f}'.format(k1_true),'1/s.')"
   ]
  },
  {
   "cell_type": "code",
   "execution_count": null,
   "metadata": {},
   "outputs": [],
   "source": []
  }
 ],
 "metadata": {
  "kernelspec": {
   "display_name": "Python 3",
   "language": "python",
   "name": "python3"
  },
  "language_info": {
   "codemirror_mode": {
    "name": "ipython",
    "version": 3
   },
   "file_extension": ".py",
   "mimetype": "text/x-python",
   "name": "python",
   "nbconvert_exporter": "python",
   "pygments_lexer": "ipython3",
   "version": "3.6.5"
  }
 },
 "nbformat": 4,
 "nbformat_minor": 2
}
